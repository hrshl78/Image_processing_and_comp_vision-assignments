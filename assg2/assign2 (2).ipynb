{
 "cells": [
  {
   "cell_type": "code",
   "execution_count": 2,
   "metadata": {
    "executionInfo": {
     "elapsed": 1003,
     "status": "ok",
     "timestamp": 1638180501884,
     "user": {
      "displayName": "HARSHAL SINGH",
      "photoUrl": "https://lh3.googleusercontent.com/a-/AOh14GhlcPA4hRKWELcnrWtmfXV4U3ZXnsLfKmtHPebiImc=s64",
      "userId": "05879399460337803635"
     },
     "user_tz": -330
    },
    "id": "Wp0NAJ56J69O"
   },
   "outputs": [],
   "source": [
    "import numpy as np                          # Numerical Python \n",
    "import matplotlib.pyplot as plt             # Python plotting\n",
    "from PIL import Image                       # Python Imaging Library\n",
    "import matplotlib.image as image\n",
    "from numpy.fft import fft, fft2, fftshift, ifft2          # Python DFT\n",
    "# Show plots in the notebook (don't use it in Python scripts)\n",
    "%matplotlib inline \n",
    "import scipy.fft\n"
   ]
  },
  {
   "cell_type": "code",
   "execution_count": 3,
   "metadata": {
    "executionInfo": {
     "elapsed": 4,
     "status": "ok",
     "timestamp": 1638180503626,
     "user": {
      "displayName": "HARSHAL SINGH",
      "photoUrl": "https://lh3.googleusercontent.com/a-/AOh14GhlcPA4hRKWELcnrWtmfXV4U3ZXnsLfKmtHPebiImc=s64",
      "userId": "05879399460337803635"
     },
     "user_tz": -330
    },
    "id": "3Z0W6-ifZ7PT"
   },
   "outputs": [],
   "source": [
    "from scipy.fftpack import dct, idct\n"
   ]
  },
  {
   "cell_type": "code",
   "execution_count": 4,
   "metadata": {
    "executionInfo": {
     "elapsed": 2,
     "status": "ok",
     "timestamp": 1638180505353,
     "user": {
      "displayName": "HARSHAL SINGH",
      "photoUrl": "https://lh3.googleusercontent.com/a-/AOh14GhlcPA4hRKWELcnrWtmfXV4U3ZXnsLfKmtHPebiImc=s64",
      "userId": "05879399460337803635"
     },
     "user_tz": -330
    },
    "id": "IVldAR0FJofQ"
   },
   "outputs": [],
   "source": [
    "##Q.2. Write python from scratch for computing 2D DFT{X(k,l)} of the following 2D array \n",
    "## (a) x(m,n) = np.array([[1, 0],[2, 1]])"
   ]
  },
  {
   "cell_type": "code",
   "execution_count": 6,
   "metadata": {
    "colab": {
     "base_uri": "https://localhost:8080/"
    },
    "executionInfo": {
     "elapsed": 438,
     "status": "ok",
     "timestamp": 1638180547401,
     "user": {
      "displayName": "HARSHAL SINGH",
      "photoUrl": "https://lh3.googleusercontent.com/a-/AOh14GhlcPA4hRKWELcnrWtmfXV4U3ZXnsLfKmtHPebiImc=s64",
      "userId": "05879399460337803635"
     },
     "user_tz": -330
    },
    "id": "yf6HonAMJv69",
    "outputId": "e44cfc43-2ea5-4358-e2ca-9efacbd0a1f1"
   },
   "outputs": [
    {
     "name": "stdout",
     "output_type": "stream",
     "text": [
      "[[ 4.00000000e+00+0.0000000e+00j  2.00000000e+00+1.2246468e-16j]\n",
      " [-2.00000000e+00+3.6739404e-16j -1.49975978e-32+0.0000000e+00j]]\n",
      "\n",
      " by dft lib  [[ 4.+0.j  2.+0.j]\n",
      " [-2.+0.j  0.+0.j]]\n"
     ]
    }
   ],
   "source": [
    "#defining func for 2d dft \n",
    "def dft_matrix(n):\n",
    "    F = [[1j*(2*np.pi/n)*p*q for p in range(n)] for q in range(n)]\n",
    "    E = np.exp(F)\n",
    "    return E\n",
    "    \n",
    "\n",
    "def dft(x):\n",
    "    dim = x.shape\n",
    "    X = np.zeros(dim)\n",
    "    E = dft_matrix(dim[0])\n",
    "    X = np.matmul(E,x)\n",
    "    X = np.matmul(X,E)\n",
    "    return X\n",
    "    \n",
    "#giving input \n",
    "x = np.array([[1,0],[2,1]])\n",
    "arr_dft = dft(x)\n",
    "print(arr_dft)\n",
    "\n",
    "#by dft package\n",
    "dft_lib = fft(fft(x, axis=0), axis=1)\n",
    "print()\n",
    "print(\" by dft lib \",dft_lib )\n"
   ]
  },
  {
   "cell_type": "code",
   "execution_count": 7,
   "metadata": {
    "executionInfo": {
     "elapsed": 425,
     "status": "ok",
     "timestamp": 1638180551211,
     "user": {
      "displayName": "HARSHAL SINGH",
      "photoUrl": "https://lh3.googleusercontent.com/a-/AOh14GhlcPA4hRKWELcnrWtmfXV4U3ZXnsLfKmtHPebiImc=s64",
      "userId": "05879399460337803635"
     },
     "user_tz": -330
    },
    "id": "_eJTVNIkKFoa"
   },
   "outputs": [],
   "source": [
    "##Q2(b) x(m,n) = np.array([[1,2, 3,4], [5, 6, 7, 8], [9,10,11,12], [13,14,15,16]])"
   ]
  },
  {
   "cell_type": "code",
   "execution_count": 9,
   "metadata": {
    "colab": {
     "base_uri": "https://localhost:8080/"
    },
    "executionInfo": {
     "elapsed": 454,
     "status": "ok",
     "timestamp": 1638180566051,
     "user": {
      "displayName": "HARSHAL SINGH",
      "photoUrl": "https://lh3.googleusercontent.com/a-/AOh14GhlcPA4hRKWELcnrWtmfXV4U3ZXnsLfKmtHPebiImc=s64",
      "userId": "05879399460337803635"
     },
     "user_tz": -330
    },
    "id": "cQvNkKhmKucT",
    "outputId": "6daec7c4-0119-45e4-e594-bce2379cc702"
   },
   "outputs": [
    {
     "name": "stdout",
     "output_type": "stream",
     "text": [
      "[[ 1.36000000e+02+0.00000000e+00j -8.00000000e+00-8.00000000e+00j\n",
      "  -8.00000000e+00+9.79717439e-15j -8.00000000e+00+8.00000000e+00j]\n",
      " [-3.20000000e+01-3.20000000e+01j  5.02228984e-15-2.08313752e-15j\n",
      "   1.83078039e-16-1.95943488e-15j  9.20342041e-16-6.18508532e-15j]\n",
      " [-3.20000000e+01+1.42059029e-14j  1.95943488e-15-2.26621556e-15j\n",
      "  -9.59846261e-31-2.44929360e-15j -3.12223036e-15-3.15439398e-15j]\n",
      " [-3.20000000e+01+3.20000000e+01j -3.06780680e-16-3.24593300e-15j\n",
      "  -1.95943488e-15-1.95943488e-15j -5.29690690e-15+8.56014798e-16j]]\n",
      "\n",
      "by dft lib \n",
      "[[136. +0.j  -8. +8.j  -8. +0.j  -8. -8.j]\n",
      " [-32.+32.j   0. +0.j   0. +0.j   0. +0.j]\n",
      " [-32. +0.j   0. +0.j   0. +0.j   0. +0.j]\n",
      " [-32.-32.j   0. +0.j   0. +0.j   0. +0.j]]\n"
     ]
    }
   ],
   "source": [
    "#giving input\n",
    "x = np.array([[1,2, 3,4], [5, 6, 7, 8], [9,10,11,12], [13,14,15,16]])\n",
    "arr_dft = dft(x)\n",
    "print(arr_dft)\n",
    "\n",
    "dft_using_lib = fft(fft(x, axis=0), axis=1)\n",
    "print()\n",
    "print(\"by dft lib \")\n",
    "print(dft_using_lib)"
   ]
  },
  {
   "cell_type": "code",
   "execution_count": 10,
   "metadata": {
    "executionInfo": {
     "elapsed": 545,
     "status": "ok",
     "timestamp": 1638180576456,
     "user": {
      "displayName": "HARSHAL SINGH",
      "photoUrl": "https://lh3.googleusercontent.com/a-/AOh14GhlcPA4hRKWELcnrWtmfXV4U3ZXnsLfKmtHPebiImc=s64",
      "userId": "05879399460337803635"
     },
     "user_tz": -330
    },
    "id": "gM5_vAxCKukS"
   },
   "outputs": [],
   "source": [
    "##Q.3.Write python from scratch for 2D Circular convolution using Doubly Block Circulant matrices method between input=np.array([[1,2,3],[4,5,6],[7,8,9]])and filter=np.array([[1,2,1],[0,0,0],[-1,-2,-1]]) "
   ]
  },
  {
   "cell_type": "code",
   "execution_count": 11,
   "metadata": {
    "colab": {
     "base_uri": "https://localhost:8080/"
    },
    "executionInfo": {
     "elapsed": 7,
     "status": "ok",
     "timestamp": 1638180578417,
     "user": {
      "displayName": "HARSHAL SINGH",
      "photoUrl": "https://lh3.googleusercontent.com/a-/AOh14GhlcPA4hRKWELcnrWtmfXV4U3ZXnsLfKmtHPebiImc=s64",
      "userId": "05879399460337803635"
     },
     "user_tz": -330
    },
    "id": "8usnABxnKy2H",
    "outputId": "271ce5c9-eb08-43b7-9711-cc8a1c294388"
   },
   "outputs": [
    {
     "name": "stdout",
     "output_type": "stream",
     "text": [
      "Input matrix (3, 3)\n",
      "[[1 2 3]\n",
      " [4 5 6]\n",
      " [7 8 9]]\n",
      "Filter matrix:  (3, 3)\n",
      "[[ 1  2  1]\n",
      " [ 0  0  0]\n",
      " [-1 -2 -1]]\n"
     ]
    }
   ],
   "source": [
    "# printing input matrix \n",
    "Input = np.array([[1,2,3],[4,5,6],[7,8,9]])\n",
    "print('Input matrix', Input.shape)\n",
    "print(Input)\n",
    "\n",
    "# printing Filter matrix\n",
    "Filter = np.array([[1,2,1],[0,0,0],[-1,-2,-1]]) \n",
    "print('Filter matrix: ',Filter.shape)\n",
    "print(Filter)\n",
    "\n"
   ]
  },
  {
   "cell_type": "code",
   "execution_count": 12,
   "metadata": {
    "colab": {
     "base_uri": "https://localhost:8080/"
    },
    "executionInfo": {
     "elapsed": 8,
     "status": "ok",
     "timestamp": 1638180580210,
     "user": {
      "displayName": "HARSHAL SINGH",
      "photoUrl": "https://lh3.googleusercontent.com/a-/AOh14GhlcPA4hRKWELcnrWtmfXV4U3ZXnsLfKmtHPebiImc=s64",
      "userId": "05879399460337803635"
     },
     "user_tz": -330
    },
    "id": "K6fhl0HPK-0q",
    "outputId": "2d666d27-48dc-43c0-8aa7-b5894525d210"
   },
   "outputs": [
    {
     "name": "stdout",
     "output_type": "stream",
     "text": [
      "Output Block matrix dimensions  3 3\n"
     ]
    }
   ],
   "source": [
    "#Number of Columns and Rows of Input Matrix\n",
    "Input_row_number, Input_column_number = Input.shape\n",
    "\n",
    "#Number of Columns and Rows of Filter Matrix\n",
    "Filter_row_number, Filter_column_number = Filter.shape\n",
    "\n",
    "Output_Block_matrix_row_number = max(Input_row_number, Filter_row_number)\n",
    "Output_Block_matrix_column_number = max(Input_column_number, Filter_column_number)\n",
    "print(\"Output Block matrix dimensions \", Output_Block_matrix_row_number, Output_Block_matrix_column_number)\n"
   ]
  },
  {
   "cell_type": "code",
   "execution_count": 21,
   "metadata": {
    "colab": {
     "base_uri": "https://localhost:8080/"
    },
    "executionInfo": {
     "elapsed": 456,
     "status": "ok",
     "timestamp": 1638180829979,
     "user": {
      "displayName": "HARSHAL SINGH",
      "photoUrl": "https://lh3.googleusercontent.com/a-/AOh14GhlcPA4hRKWELcnrWtmfXV4U3ZXnsLfKmtHPebiImc=s64",
      "userId": "05879399460337803635"
     },
     "user_tz": -330
    },
    "id": "a69Xk3KELVsO",
    "outputId": "89c668a3-63a9-43c5-fcf9-1ed2c16609fb"
   },
   "outputs": [
    {
     "name": "stdout",
     "output_type": "stream",
     "text": [
      "H0  [[-1 -1 -2]\n",
      " [-2 -1 -1]\n",
      " [-1 -2 -1]]\n",
      "H1  [[0 0 0]\n",
      " [0 0 0]\n",
      " [0 0 0]]\n",
      "H2  [[1 1 2]\n",
      " [2 1 1]\n",
      " [1 2 1]]\n",
      "[[-1 -1 -2  1  1  2  0  0  0]\n",
      " [-2 -1 -1  2  1  1  0  0  0]\n",
      " [-1 -2 -1  1  2  1  0  0  0]]\n",
      "[[ 0  0  0 -1 -1 -2  1  1  2]\n",
      " [ 0  0  0 -2 -1 -1  2  1  1]\n",
      " [ 0  0  0 -1 -2 -1  1  2  1]]\n",
      "[[ 1  1  2  0  0  0 -1 -1 -2]\n",
      " [ 2  1  1  0  0  0 -2 -1 -1]\n",
      " [ 1  2  1  0  0  0 -1 -2 -1]]\n",
      "[[-1 -1 -2  1  1  2  0  0  0]\n",
      " [-2 -1 -1  2  1  1  0  0  0]\n",
      " [-1 -2 -1  1  2  1  0  0  0]\n",
      " [ 0  0  0 -1 -1 -2  1  1  2]\n",
      " [ 0  0  0 -2 -1 -1  2  1  1]\n",
      " [ 0  0  0 -1 -2 -1  1  2  1]\n",
      " [ 1  1  2  0  0  0 -1 -1 -2]\n",
      " [ 2  1  1  0  0  0 -2 -1 -1]\n",
      " [ 1  2  1  0  0  0 -1 -2 -1]]\n"
     ]
    }
   ],
   "source": [
    "# constructing H0, H1 and H2 matrices\n",
    "from scipy.linalg import circulant\n",
    " \n",
    "H0 = circulant(Filter[2:3])\n",
    "print(\"H0 \", H0)\n",
    " \n",
    "H1 = circulant(Filter[1:2])\n",
    "print(\"H1 \", H1)\n",
    " \n",
    "H2 = circulant(Filter[0:1])\n",
    "print(\"H2 \", H2)\n",
    "Row1 = np.hstack([H0, H2, H1])\n",
    "Row2 = np.hstack([H1, H0, H2])\n",
    "Row3 = np.hstack([H2, H1, H0])\n",
    " \n",
    "print(Row1)\n",
    "print(Row2)\n",
    "print(Row3)\n",
    " \n",
    "Doubly_blockmtrx = np.vstack([Row1, Row2, Row3])\n",
    "print(Doubly_blockmtrx)\n",
    "\n",
    "def matrix_to_vector(input):\n",
    "    input_h, input_w = input.shape\n",
    "    output_vector = np.zeros(input_h*input_w, dtype=input.dtype)\n",
    "\n",
    "# flip the input matrix up-down because last row should go first\n",
    "    input = np.flipud(input) \n",
    "    for i,row in enumerate(input):\n",
    "        st = i*input_w\n",
    "        nd = st + input_w\n",
    "        output_vector[st:nd] = row\n",
    "    return output_vector\n",
    "\n",
    "\n"
   ]
  },
  {
   "cell_type": "code",
   "execution_count": 22,
   "metadata": {
    "colab": {
     "base_uri": "https://localhost:8080/"
    },
    "executionInfo": {
     "elapsed": 423,
     "status": "ok",
     "timestamp": 1638180845409,
     "user": {
      "displayName": "HARSHAL SINGH",
      "photoUrl": "https://lh3.googleusercontent.com/a-/AOh14GhlcPA4hRKWELcnrWtmfXV4U3ZXnsLfKmtHPebiImc=s64",
      "userId": "05879399460337803635"
     },
     "user_tz": -330
    },
    "id": "TVvTvuXfLxg9",
    "outputId": "372a601f-9e54-4fa5-b457-af5b8d310960"
   },
   "outputs": [
    {
     "name": "stdout",
     "output_type": "stream",
     "text": [
      "vectorized_input:  [7 8 9 4 5 6 1 2 3]\n",
      "result_vector:  [-12 -12 -12 -12 -12 -12  24  24  24]\n"
     ]
    }
   ],
   "source": [
    "# calling the function\n",
    "vectorized_Input = matrix_to_vector(Input)\n",
    "print('vectorized_input: ', vectorized_Input)\n",
    "\n",
    "result_vector = np.matmul(Doubly_blockmtrx, vectorized_Input)\n",
    "print('result_vector: ', result_vector)\n"
   ]
  },
  {
   "cell_type": "code",
   "execution_count": 17,
   "metadata": {
    "executionInfo": {
     "elapsed": 5,
     "status": "ok",
     "timestamp": 1638180633231,
     "user": {
      "displayName": "HARSHAL SINGH",
      "photoUrl": "https://lh3.googleusercontent.com/a-/AOh14GhlcPA4hRKWELcnrWtmfXV4U3ZXnsLfKmtHPebiImc=s64",
      "userId": "05879399460337803635"
     },
     "user_tz": -330
    },
    "id": "Cr0rY51dMDKR"
   },
   "outputs": [],
   "source": []
  },
  {
   "cell_type": "code",
   "execution_count": 18,
   "metadata": {
    "executionInfo": {
     "elapsed": 3,
     "status": "ok",
     "timestamp": 1638180637041,
     "user": {
      "displayName": "HARSHAL SINGH",
      "photoUrl": "https://lh3.googleusercontent.com/a-/AOh14GhlcPA4hRKWELcnrWtmfXV4U3ZXnsLfKmtHPebiImc=s64",
      "userId": "05879399460337803635"
     },
     "user_tz": -330
    },
    "id": "O3Ly5rl3So2x"
   },
   "outputs": [],
   "source": [
    "##Q.4. Write python code to compute 2D DCT for the 4x4 image S given below and reconstruct it using different masking windows to evaluate the effect of different basis images. \n",
    "##1.\tDetermine the 2D-DCT coefficients, Tk,l, k=0,1,2,3;l=0,1,2,3. \n"
   ]
  },
  {
   "cell_type": "code",
   "execution_count": 19,
   "metadata": {
    "executionInfo": {
     "elapsed": 4,
     "status": "ok",
     "timestamp": 1638180638770,
     "user": {
      "displayName": "HARSHAL SINGH",
      "photoUrl": "https://lh3.googleusercontent.com/a-/AOh14GhlcPA4hRKWELcnrWtmfXV4U3ZXnsLfKmtHPebiImc=s64",
      "userId": "05879399460337803635"
     },
     "user_tz": -330
    },
    "id": "JrItL2uYZTiv"
   },
   "outputs": [],
   "source": [
    "def dct_matrix(n):\n",
    "    W = [[(1 if b==0 else np.sqrt(2))*np.cos((2*a + 1)*b*np.pi/(2*n)) for a in range(n)] for b in range(n)]\n",
    "    A = (W) / np.sqrt(n)\n",
    "\n",
    "    return A\n",
    "    \n",
    "\n",
    "def dct_transform(x):\n",
    "    dim = x.shape\n",
    "    X = np.zeros(dim)\n",
    "    A = dct_matrix(dim[0])\n",
    "    X = np.matmul(A,x)\n",
    "    X = np.matmul(X, A.T)\n",
    "    \n",
    "    return X"
   ]
  },
  {
   "cell_type": "code",
   "execution_count": 24,
   "metadata": {
    "colab": {
     "base_uri": "https://localhost:8080/"
    },
    "executionInfo": {
     "elapsed": 662,
     "status": "ok",
     "timestamp": 1638191401497,
     "user": {
      "displayName": "HARSHAL SINGH",
      "photoUrl": "https://lh3.googleusercontent.com/a-/AOh14GhlcPA4hRKWELcnrWtmfXV4U3ZXnsLfKmtHPebiImc=s64",
      "userId": "05879399460337803635"
     },
     "user_tz": -330
    },
    "id": "S7V2g1pXZUSE",
    "outputId": "c1966e79-22a9-4a54-d39d-5efe3773108b"
   },
   "outputs": [
    {
     "name": "stdout",
     "output_type": "stream",
     "text": [
      "2D-DCT of the image S\n",
      "[[ 2.00000000e+01  0.00000000e+00 -1.11022302e-15 -2.10942375e-15]\n",
      " [ 4.44089210e-16  2.34314575e+00  5.61935771e-16  5.65685425e+00]\n",
      " [-1.22124533e-15  2.97404770e-16  1.10933565e-31  7.17998630e-16]\n",
      " [-2.66453526e-15  5.65685425e+00  3.76480653e-16  1.36568542e+01]]\n",
      "\n",
      "2D_DCT with scipy funtion:\n",
      "[[20.          0.          0.          0.        ]\n",
      " [ 0.          2.34314575  0.          5.65685425]\n",
      " [ 0.          0.          0.          0.        ]\n",
      " [ 0.          5.65685425  0.         13.65685425]]\n",
      "\n",
      "Difference between the results: \n",
      "[[7.10542736e-15 0.00000000e+00 1.11022302e-15 2.10942375e-15]\n",
      " [4.44089210e-16 0.00000000e+00 5.61935771e-16 0.00000000e+00]\n",
      " [1.22124533e-15 2.97404770e-16 1.10933565e-31 7.17998630e-16]\n",
      " [2.66453526e-15 8.88178420e-16 3.76480653e-16 5.32907052e-15]]\n",
      "reconstructed image from the original DFT coefficients equal to the original image(by rounding to 5 decimal places  ))                                                       \n",
      "[[0. 0. 0. 0.]\n",
      " [0. 0. 0. 0.]\n",
      " [0. 0. 0. 0.]\n",
      " [0. 0. 0. 0.]]\n"
     ]
    }
   ],
   "source": [
    "S = np.array([[9,1,9,1],[1,9,1,9],[9,1,9,1],[1,9,1,9]])\n",
    "C = dct_transform(S)\n",
    "print(\"2D-DCT of the image S\")\n",
    "print(C)\n",
    "print()\n",
    "\n",
    "C2 = dct(dct(S, type=2, norm='ortho', axis=0), type=2, norm='ortho', axis=1)\n",
    "print(\"2D_DCT with scipy funtion:\")\n",
    "print(C2)\n",
    "print()\n",
    "##2.\tShow that the reconstructed image from the original DFT coefficients equal to the original image.\n",
    "print(\"Difference between the results: \")\n",
    "print(np.abs(C2-C))\n",
    "print(\"reconstructed image from the original DFT coefficients equal to the original image(by rounding to 5 decimal places  ))                                                       \")\n",
    "print(np.around(np.abs(C2-C), decimals=5))\n"
   ]
  },
  {
   "cell_type": "code",
   "execution_count": null,
   "metadata": {
    "id": "IAZz9jWH0QTZ"
   },
   "outputs": [],
   "source": []
  }
 ],
 "metadata": {
  "colab": {
   "authorship_tag": "ABX9TyO+QVkT4XJY+bHh1nbjyPtR",
   "collapsed_sections": [],
   "name": "assign2.ipynb",
   "provenance": []
  },
  "kernelspec": {
   "display_name": "Python 3 (ipykernel)",
   "language": "python",
   "name": "python3"
  },
  "language_info": {
   "codemirror_mode": {
    "name": "ipython",
    "version": 3
   },
   "file_extension": ".py",
   "mimetype": "text/x-python",
   "name": "python",
   "nbconvert_exporter": "python",
   "pygments_lexer": "ipython3",
   "version": "3.8.12"
  }
 },
 "nbformat": 4,
 "nbformat_minor": 4
}
